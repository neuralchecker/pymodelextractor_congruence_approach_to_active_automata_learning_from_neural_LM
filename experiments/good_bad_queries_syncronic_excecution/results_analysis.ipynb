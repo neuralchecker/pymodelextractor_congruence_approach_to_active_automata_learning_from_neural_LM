{
 "cells": [
  {
   "cell_type": "code",
   "execution_count": 2,
   "id": "6385ae29",
   "metadata": {},
   "outputs": [],
   "source": [
    "import warnings\n",
    "import pandas as pd\n",
    "import numpy as np\n",
    "import matplotlib.pyplot as plt\n",
    "import seaborn as sns"
   ]
  },
  {
   "cell_type": "markdown",
   "id": "9ac2a485",
   "metadata": {},
   "source": [
    "### Load data from experiment"
   ]
  },
  {
   "cell_type": "code",
   "execution_count": 3,
   "id": "285d6f9d",
   "metadata": {},
   "outputs": [],
   "source": [
    "evaluation_data = pd.read_csv('./results/results_09_03_2023_17_48_01.csv')"
   ]
  },
  {
   "cell_type": "markdown",
   "id": "0adce0bf",
   "metadata": {},
   "source": [
    "### Data analyisis"
   ]
  },
  {
   "cell_type": "code",
   "execution_count": 4,
   "id": "04110878",
   "metadata": {},
   "outputs": [
    {
     "data": {
      "text/plain": [
       "2"
      ]
     },
     "execution_count": 4,
     "metadata": {},
     "output_type": "execute_result"
    }
   ],
   "source": [
    "len(evaluation_data)"
   ]
  },
  {
   "cell_type": "code",
   "execution_count": 5,
   "id": "c7e69701",
   "metadata": {},
   "outputs": [
    {
     "data": {
      "text/html": [
       "<div>\n",
       "<style scoped>\n",
       "    .dataframe tbody tr th:only-of-type {\n",
       "        vertical-align: middle;\n",
       "    }\n",
       "\n",
       "    .dataframe tbody tr th {\n",
       "        vertical-align: top;\n",
       "    }\n",
       "\n",
       "    .dataframe thead th {\n",
       "        text-align: right;\n",
       "    }\n",
       "</style>\n",
       "<table border=\"1\" class=\"dataframe\">\n",
       "  <thead>\n",
       "    <tr style=\"text-align: right;\">\n",
       "      <th></th>\n",
       "      <th>Unnamed: 0</th>\n",
       "      <th>Algorithm</th>\n",
       "      <th>Instance</th>\n",
       "      <th>Number of Extracted States</th>\n",
       "      <th>RunNumber</th>\n",
       "      <th>Time (s)</th>\n",
       "      <th>LastTokenQuery</th>\n",
       "      <th>EquivalenceQuery</th>\n",
       "      <th>NumberOfStatesExceeded</th>\n",
       "      <th>QueryLengthExceeded</th>\n",
       "      <th>TimeExceeded</th>\n",
       "      <th>Tree Depth</th>\n",
       "      <th>Inner Nodes</th>\n",
       "      <th>TimeBound</th>\n",
       "      <th>Accuracy</th>\n",
       "      <th>Unknown Results Percentage</th>\n",
       "    </tr>\n",
       "  </thead>\n",
       "  <tbody>\n",
       "    <tr>\n",
       "      <th>0</th>\n",
       "      <td>0</td>\n",
       "      <td>BoundedQuant_top1</td>\n",
       "      <td>B</td>\n",
       "      <td>3</td>\n",
       "      <td>0</td>\n",
       "      <td>154.084255</td>\n",
       "      <td>1536</td>\n",
       "      <td>1</td>\n",
       "      <td>False</td>\n",
       "      <td>False</td>\n",
       "      <td>True</td>\n",
       "      <td>1</td>\n",
       "      <td>1</td>\n",
       "      <td>120</td>\n",
       "      <td>0.8750</td>\n",
       "      <td>0.992</td>\n",
       "    </tr>\n",
       "    <tr>\n",
       "      <th>1</th>\n",
       "      <td>1</td>\n",
       "      <td>BoundedQuant_top1</td>\n",
       "      <td>T</td>\n",
       "      <td>4</td>\n",
       "      <td>0</td>\n",
       "      <td>170.171171</td>\n",
       "      <td>1536</td>\n",
       "      <td>1</td>\n",
       "      <td>False</td>\n",
       "      <td>False</td>\n",
       "      <td>True</td>\n",
       "      <td>1</td>\n",
       "      <td>1</td>\n",
       "      <td>120</td>\n",
       "      <td>0.8625</td>\n",
       "      <td>0.920</td>\n",
       "    </tr>\n",
       "  </tbody>\n",
       "</table>\n",
       "</div>"
      ],
      "text/plain": [
       "   Unnamed: 0          Algorithm Instance  Number of Extracted States  \\\n",
       "0           0  BoundedQuant_top1        B                           3   \n",
       "1           1  BoundedQuant_top1        T                           4   \n",
       "\n",
       "   RunNumber    Time (s)  LastTokenQuery  EquivalenceQuery  \\\n",
       "0          0  154.084255            1536                 1   \n",
       "1          0  170.171171            1536                 1   \n",
       "\n",
       "   NumberOfStatesExceeded  QueryLengthExceeded  TimeExceeded  Tree Depth  \\\n",
       "0                   False                False          True           1   \n",
       "1                   False                False          True           1   \n",
       "\n",
       "   Inner Nodes  TimeBound  Accuracy  Unknown Results Percentage  \n",
       "0            1        120    0.8750                       0.992  \n",
       "1            1        120    0.8625                       0.920  "
      ]
     },
     "execution_count": 5,
     "metadata": {},
     "output_type": "execute_result"
    }
   ],
   "source": [
    "evaluation_data.head(16)"
   ]
  },
  {
   "cell_type": "code",
   "execution_count": 6,
   "id": "8a0e4944",
   "metadata": {},
   "outputs": [],
   "source": [
    "evaluation_data['Total_Acc'] = evaluation_data['Accuracy']*(1-evaluation_data['Unknown Results Percentage']) "
   ]
  },
  {
   "cell_type": "code",
   "execution_count": 7,
   "id": "c9dd429f",
   "metadata": {},
   "outputs": [
    {
     "data": {
      "text/html": [
       "<div>\n",
       "<style scoped>\n",
       "    .dataframe tbody tr th:only-of-type {\n",
       "        vertical-align: middle;\n",
       "    }\n",
       "\n",
       "    .dataframe tbody tr th {\n",
       "        vertical-align: top;\n",
       "    }\n",
       "\n",
       "    .dataframe thead th {\n",
       "        text-align: right;\n",
       "    }\n",
       "</style>\n",
       "<table border=\"1\" class=\"dataframe\">\n",
       "  <thead>\n",
       "    <tr style=\"text-align: right;\">\n",
       "      <th></th>\n",
       "      <th>Unnamed: 0</th>\n",
       "      <th>Algorithm</th>\n",
       "      <th>Instance</th>\n",
       "      <th>Number of Extracted States</th>\n",
       "      <th>RunNumber</th>\n",
       "      <th>Time (s)</th>\n",
       "      <th>LastTokenQuery</th>\n",
       "      <th>EquivalenceQuery</th>\n",
       "      <th>NumberOfStatesExceeded</th>\n",
       "      <th>QueryLengthExceeded</th>\n",
       "      <th>TimeExceeded</th>\n",
       "      <th>Tree Depth</th>\n",
       "      <th>Inner Nodes</th>\n",
       "      <th>TimeBound</th>\n",
       "      <th>Accuracy</th>\n",
       "      <th>Unknown Results Percentage</th>\n",
       "      <th>Total_Acc</th>\n",
       "    </tr>\n",
       "  </thead>\n",
       "  <tbody>\n",
       "    <tr>\n",
       "      <th>0</th>\n",
       "      <td>0</td>\n",
       "      <td>BoundedQuant_top3</td>\n",
       "      <td>BOTTOM</td>\n",
       "      <td>3</td>\n",
       "      <td>0</td>\n",
       "      <td>184.525117</td>\n",
       "      <td>1536</td>\n",
       "      <td>1</td>\n",
       "      <td>False</td>\n",
       "      <td>False</td>\n",
       "      <td>True</td>\n",
       "      <td>1</td>\n",
       "      <td>1</td>\n",
       "      <td>120</td>\n",
       "      <td>0.325337</td>\n",
       "      <td>0.333</td>\n",
       "      <td>0.217</td>\n",
       "    </tr>\n",
       "    <tr>\n",
       "      <th>1</th>\n",
       "      <td>1</td>\n",
       "      <td>BoundedQuant_top3</td>\n",
       "      <td>TOP</td>\n",
       "      <td>3</td>\n",
       "      <td>0</td>\n",
       "      <td>176.163640</td>\n",
       "      <td>1536</td>\n",
       "      <td>1</td>\n",
       "      <td>False</td>\n",
       "      <td>False</td>\n",
       "      <td>True</td>\n",
       "      <td>1</td>\n",
       "      <td>1</td>\n",
       "      <td>120</td>\n",
       "      <td>0.528736</td>\n",
       "      <td>0.913</td>\n",
       "      <td>0.046</td>\n",
       "    </tr>\n",
       "  </tbody>\n",
       "</table>\n",
       "</div>"
      ],
      "text/plain": [
       "   Unnamed: 0          Algorithm Instance  Number of Extracted States  \\\n",
       "0           0  BoundedQuant_top3   BOTTOM                           3   \n",
       "1           1  BoundedQuant_top3      TOP                           3   \n",
       "\n",
       "   RunNumber    Time (s)  LastTokenQuery  EquivalenceQuery  \\\n",
       "0          0  184.525117            1536                 1   \n",
       "1          0  176.163640            1536                 1   \n",
       "\n",
       "   NumberOfStatesExceeded  QueryLengthExceeded  TimeExceeded  Tree Depth  \\\n",
       "0                   False                False          True           1   \n",
       "1                   False                False          True           1   \n",
       "\n",
       "   Inner Nodes  TimeBound  Accuracy  Unknown Results Percentage  Total_Acc  \n",
       "0            1        120  0.325337                       0.333      0.217  \n",
       "1            1        120  0.528736                       0.913      0.046  "
      ]
     },
     "execution_count": 7,
     "metadata": {},
     "output_type": "execute_result"
    }
   ],
   "source": [
    "evaluation_data.head(16)"
   ]
  }
 ],
 "metadata": {
  "kernelspec": {
   "display_name": "Python 3 (ipykernel)",
   "language": "python",
   "name": "python3"
  },
  "language_info": {
   "codemirror_mode": {
    "name": "ipython",
    "version": 3
   },
   "file_extension": ".py",
   "mimetype": "text/x-python",
   "name": "python",
   "nbconvert_exporter": "python",
   "pygments_lexer": "ipython3",
   "version": "3.9.1"
  },
  "vscode": {
   "interpreter": {
    "hash": "a62c4331fe3c271027f7fb0009202e3e241e4834edb3e939062d865ae9660ef9"
   }
  }
 },
 "nbformat": 4,
 "nbformat_minor": 5
}
